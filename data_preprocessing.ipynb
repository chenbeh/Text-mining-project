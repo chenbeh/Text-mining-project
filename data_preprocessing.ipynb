{
 "cells": [
  {
   "cell_type": "code",
   "execution_count": 14,
   "metadata": {},
   "outputs": [
    {
     "name": "stdout",
     "output_type": "stream",
     "text": [
      "0\n",
      "10000\n",
      "20000\n",
      "30000\n",
      "40000\n",
      "50000\n",
      "60000\n",
      "70000\n",
      "80000\n",
      "90000\n",
      "100000\n",
      "110000\n",
      "120000\n",
      "130000\n",
      "140000\n",
      "150000\n",
      "160000\n",
      "170000\n",
      "180000\n",
      "190000\n"
     ]
    }
   ],
   "source": [
    "# Read the file and split into lines\n",
    "lines_src = open('data/de-en.train.200K.txt' , encoding='utf-8').\\\n",
    "        read().strip().split('\\n')\n",
    "    \n",
    "# Read the file and split into lines\n",
    "lines_tgt = open('data/en-de.train.200K.txt', encoding='utf-8').\\\n",
    "        read().strip().split('\\n')\n",
    "    \n",
    "file_pairs = open(\"data/de-en.train.pairs.200K.txt\",\"w\") \n",
    "\n",
    "for i in range(0,min(len(lines_src),len(lines_tgt))):\n",
    "    \n",
    "    if i%10000==0:\n",
    "        print(i)\n",
    "    file_pairs.write(lines_src[i]+'\\t'+lines_tgt[i]+'\\n') \n",
    "\n",
    " \n",
    "file_pairs.close()\n"
   ]
  },
  {
   "cell_type": "code",
   "execution_count": null,
   "metadata": {
    "collapsed": true
   },
   "outputs": [],
   "source": []
  }
 ],
 "metadata": {
  "kernelspec": {
   "display_name": "Python 3",
   "language": "python",
   "name": "python3"
  },
  "language_info": {
   "codemirror_mode": {
    "name": "ipython",
    "version": 3
   },
   "file_extension": ".py",
   "mimetype": "text/x-python",
   "name": "python",
   "nbconvert_exporter": "python",
   "pygments_lexer": "ipython3",
   "version": "3.6.3"
  }
 },
 "nbformat": 4,
 "nbformat_minor": 2
}
